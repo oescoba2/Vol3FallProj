{
 "cells": [
  {
   "cell_type": "code",
   "execution_count": 4,
   "metadata": {},
   "outputs": [
    {
     "name": "stdout",
     "output_type": "stream",
     "text": [
      "  ISO_A3  NY.GDP.PCAP.CD  SP.POP.TOTL  Happiness score\n",
      "0    AFG      352.603733   41128771.0           2.4038\n",
      "1    ALB     6810.114041    2777689.0           5.1988\n",
      "2    ARE    53707.980081    9441129.0           6.5760\n",
      "3    ARG    13650.604629   46234830.0           5.9670\n",
      "4    ARM     7018.051504    2780469.0           5.3986\n",
      "ISO_A3             0\n",
      "NY.GDP.PCAP.CD     2\n",
      "SP.POP.TOTL        0\n",
      "Happiness score    0\n",
      "dtype: int64\n"
     ]
    }
   ],
   "source": [
    "import wbgapi as wb\n",
    "import pandas as pd\n",
    "\n",
    "class DataPipeline():\n",
    "\n",
    "    def __init__(self, indicators, year):\n",
    "        self.indicators = indicators\n",
    "        self.year = year\n",
    "\n",
    "        self.happiness_data = pd.read_csv('../data/happiness/happiness.csv').drop('Country', axis=1)\n",
    "        self.valid_countries = self.happiness_data['ISO_A3'].unique()\n",
    "\n",
    "        wb.db = 2\n",
    "        # print(wb.series.info())\n",
    "\n",
    "    def pull_wb_data(self):\n",
    "        data = wb.data.DataFrame(self.indicators, time=self.year)\n",
    "        return data\n",
    "    \n",
    "    def get_data(self):\n",
    "        features = self.pull_wb_data()\n",
    "        features = features.reset_index()\n",
    "        features = features.rename(columns={features.columns[0]: 'ISO_A3'})\n",
    "        features = features[features['ISO_A3'].isin(self.valid_countries)]\n",
    "        merged = pd.merge(features, self.happiness_data, on='ISO_A3')\n",
    "        return merged\n",
    "dp = DataPipeline(['NY.GDP.PCAP.CD', 'SP.POP.TOTL'], 2022)\n",
    "data = dp.get_data()\n",
    "print(data.head())\n",
    "\n",
    "print(data.isna().sum())\n",
    "data = data.dropna()\n",
    "\n",
    "\n",
    "    \n"
   ]
  },
  {
   "cell_type": "code",
   "execution_count": 5,
   "metadata": {},
   "outputs": [
    {
     "name": "stderr",
     "output_type": "stream",
     "text": [
      "/home/jcdutoit/miniconda3/envs/acme/lib/python3.12/site-packages/tqdm/auto.py:21: TqdmWarning: IProgress not found. Please update jupyter and ipywidgets. See https://ipywidgets.readthedocs.io/en/stable/user_install.html\n",
      "  from .autonotebook import tqdm as notebook_tqdm\n",
      "/home/jcdutoit/Documents/ACME/Vol3/Vol3FallProj/Joseph_workspace/model.py:213: UserWarning: ACHTUNG! Your specified model will be made but cannot be hypertuned.\n",
      "  warnings.warn(message=\"ACHTUNG! Your specified model will be made but cannot be hypertuned.\")\n"
     ]
    },
    {
     "name": "stdout",
     "output_type": "stream",
     "text": [
      "Now making RandomForestRegressor...\n",
      "Training and hypertuning using Exhaustive Search...\n"
     ]
    },
    {
     "name": "stderr",
     "output_type": "stream",
     "text": [
      "/home/jcdutoit/miniconda3/envs/acme/lib/python3.12/site-packages/numpy/ma/core.py:2820: RuntimeWarning: invalid value encountered in cast\n",
      "  _data = np.array(data, dtype=dtype, copy=copy,\n"
     ]
    },
    {
     "name": "stdout",
     "output_type": "stream",
     "text": [
      "Training completed.\n",
      "The best oob_score is 0.6267120238989977\n",
      "Best model and hyperparameters added as attribute to class.\n"
     ]
    }
   ],
   "source": [
    "from model import Model\n",
    "\n",
    "X = data.iloc[:, 1:-1].to_numpy()\n",
    "y = data.iloc[:, -1].to_numpy()\n",
    "\n",
    "model = Model(model_type='rdf', model_choice='reg', tuning_strategy='random')\n",
    "model.make_quick_model()\n",
    "model.make_full_model(X, y)"
   ]
  }
 ],
 "metadata": {
  "kernelspec": {
   "display_name": "acme",
   "language": "python",
   "name": "python3"
  },
  "language_info": {
   "codemirror_mode": {
    "name": "ipython",
    "version": 3
   },
   "file_extension": ".py",
   "mimetype": "text/x-python",
   "name": "python",
   "nbconvert_exporter": "python",
   "pygments_lexer": "ipython3",
   "version": "3.12.2"
  }
 },
 "nbformat": 4,
 "nbformat_minor": 2
}
