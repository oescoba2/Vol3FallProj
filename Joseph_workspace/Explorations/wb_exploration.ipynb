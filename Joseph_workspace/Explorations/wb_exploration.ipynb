{
 "cells": [
  {
   "cell_type": "code",
   "execution_count": null,
   "metadata": {},
   "outputs": [
    {
     "name": "stdout",
     "output_type": "stream",
     "text": [
      "1496\n"
     ]
    }
   ],
   "source": [
    "# import wbgapi as wb\n",
    "# import pandas as pd\n",
    "# from tqdm import tqdm\n",
    "\n",
    "# # Get the entire indicator dataset\n",
    "# indicators = wb.series.list()\n",
    "# indicator_ids = [indicator['id'] for indicator in indicators]\n",
    "# print(len(indicator_ids))\n"
   ]
  },
  {
   "cell_type": "code",
   "execution_count": null,
   "metadata": {},
   "outputs": [
    {
     "name": "stderr",
     "output_type": "stream",
     "text": [
      " 12%|█▏        | 180/1496 [00:49<05:35,  3.93it/s]"
     ]
    },
    {
     "name": "stdout",
     "output_type": "stream",
     "text": [
      "Unable to fetch data for indicator:  DT.NFL.UNID.CD\n"
     ]
    },
    {
     "name": "stderr",
     "output_type": "stream",
     "text": [
      " 37%|███▋      | 556/1496 [04:12<10:32,  1.49it/s]  /home/jcdutoit/miniconda3/envs/acme/lib/python3.12/site-packages/wbgapi/data.py:343: FutureWarning: Setting an item of incompatible dtype is deprecated and will raise an error in a future version of pandas. Value '3083842126000000000000' has dtype incompatible with float64, please explicitly cast to a compatible dtype first.\n",
      "  df.loc[index_key, column_key] = np.nan if row['value'] is None else row['value']\n",
      "100%|██████████| 1496/1496 [24:50<00:00,  1.00it/s]\n"
     ]
    }
   ],
   "source": [
    "# import pandas as pd\n",
    "\n",
    "# df = pd.DataFrame()\n",
    "\n",
    "# pbar = tqdm(total=len(indicator_ids))\n",
    "# for indicator in indicator_ids:\n",
    "#     try: \n",
    "#         data = wb.data.DataFrame(indicator, mrv=1)\n",
    "#         df = pd.concat([df, data])\n",
    "#     except:\n",
    "#         print(\"Unable to fetch data for indicator: \", indicator)\n",
    "#     pbar.update(1)\n",
    "# pbar.close()\n"
   ]
  },
  {
   "cell_type": "code",
   "execution_count": null,
   "metadata": {},
   "outputs": [],
   "source": [
    "# df['MS.MIL.XPND.CN'] = df['MS.MIL.XPND.CN'].astype(float)\n",
    "# df.to_parquet('data.parquet', engine='pyarrow', compression='snappy')\n"
   ]
  },
  {
   "cell_type": "code",
   "execution_count": null,
   "metadata": {},
   "outputs": [
    {
     "name": "stdout",
     "output_type": "stream",
     "text": [
      "Index(['AG.CON.FERT.PT.ZS', 'AG.CON.FERT.ZS', 'AG.LND.AGRI.K2',\n",
      "       'AG.LND.AGRI.ZS', 'AG.LND.ARBL.HA', 'AG.LND.ARBL.HA.PC',\n",
      "       'AG.LND.ARBL.ZS', 'AG.LND.CREL.HA', 'AG.LND.CROP.ZS',\n",
      "       'AG.LND.EL5M.RU.K2',\n",
      "       ...\n",
      "       'VA.PER.RNK.LOWER', 'VA.PER.RNK.UPPER', 'VA.STD.ERR', 'VC.BTL.DETH',\n",
      "       'VC.IDP.NWCV', 'VC.IDP.NWDS', 'VC.IDP.TOCV', 'VC.IHR.PSRC.FE.P5',\n",
      "       'VC.IHR.PSRC.MA.P5', 'VC.IHR.PSRC.P5'],\n",
      "      dtype='object', length=1495)\n",
      "Index(['ABW', 'AFE', 'AFG', 'AFW', 'AGO', 'ALB', 'AND', 'ARB', 'ARE', 'ARG',\n",
      "       ...\n",
      "       'VIR', 'VNM', 'VUT', 'WLD', 'WSM', 'XKX', 'YEM', 'ZAF', 'ZMB', 'ZWE'],\n",
      "      dtype='object', name='economy', length=397670)\n"
     ]
    },
    {
     "name": "stderr",
     "output_type": "stream",
     "text": [
      "/tmp/ipykernel_47663/484940997.py:3: PerformanceWarning: DataFrame is highly fragmented.  This is usually the result of calling `frame.insert` many times, which has poor performance.  Consider joining all columns at once using pd.concat(axis=1) instead. To get a de-fragmented frame, use `newframe = frame.copy()`\n",
      "  df['ISO_A3'] = df.index\n"
     ]
    }
   ],
   "source": [
    "# print(df.columns)\n",
    "# print(df.index)\n",
    "# df['ISO_A3'] = df.index"
   ]
  },
  {
   "cell_type": "code",
   "execution_count": 1,
   "metadata": {},
   "outputs": [],
   "source": [
    "from DataPipeline import DataPipeline\n",
    "import geopandas as gpd\n",
    "import matplotlib.pyplot as plt\n",
    "import matplotlib.animation as animation\n",
    "\n",
    "class GeoPlotter():\n",
    "\n",
    "    def __init__(self, df=None):\n",
    "        # if df is None:\n",
    "        #     self.df = DataPipeline().clean([\"name_change\"])\n",
    "        if 'ISO_A3' not in df.columns:\n",
    "            raise ValueError(\"This dataframe does not have an ISO_A3 column. Please use the DataPipeline change_name transform to prepare it for plotting\")\n",
    "        else: \n",
    "            self.df = df\n",
    "        world = gpd.read_file('worldmap.gpkg')\n",
    "        self.merged = world.merge(self.df, left_on='ISO_A3', right_on='ISO_A3')\n",
    "\n",
    "\n",
    "    def plot(self, col_name, year, continent='all', country='all'):\n",
    "        fig, ax = plt.subplots(1, figsize=(10, 4))\n",
    "        df = self.merged[self.merged['Year'].astype(str) == year]\n",
    "        df.plot(column=col_name, ax=ax, legend=True)\n",
    "        ax.set_title(col_name)\n",
    "        plt.show()\n",
    "    \n",
    "    def animate(self, col_name, video_name):\n",
    "        fig, ax = plt.subplots(1, figsize=(10, 7))\n",
    "\n",
    "        def update(year):\n",
    "            df = self.merged[self.merged['Year'].astype(str) == str(year)]\n",
    "            df.plot(column=col_name, ax=ax)\n",
    "            ax.set_title(col_name + \"\\n\" + str(year))\n",
    "\n",
    "        animation.writer = animation.writers['ffmpeg']\n",
    "        ani = animation.FuncAnimation(fig, update, \n",
    "            frames=sorted(set(self.df['Year'])),\n",
    "            interval=self.df['Year'].max() - self.df['Year'].min() / 10)\n",
    "        ani.save(video_name)"
   ]
  },
  {
   "cell_type": "code",
   "execution_count": 2,
   "metadata": {},
   "outputs": [
    {
     "ename": "NameError",
     "evalue": "name 'pd' is not defined",
     "output_type": "error",
     "traceback": [
      "\u001b[0;31m---------------------------------------------------------------------------\u001b[0m",
      "\u001b[0;31mNameError\u001b[0m                                 Traceback (most recent call last)",
      "Cell \u001b[0;32mIn[2], line 1\u001b[0m\n\u001b[0;32m----> 1\u001b[0m df \u001b[38;5;241m=\u001b[39m \u001b[43mpd\u001b[49m\u001b[38;5;241m.\u001b[39mread_parquet(\u001b[38;5;124m'\u001b[39m\u001b[38;5;124mdata.parquet\u001b[39m\u001b[38;5;124m'\u001b[39m, engine\u001b[38;5;241m=\u001b[39m\u001b[38;5;124m'\u001b[39m\u001b[38;5;124mpyarrow\u001b[39m\u001b[38;5;124m'\u001b[39m)\n\u001b[1;32m      2\u001b[0m gp \u001b[38;5;241m=\u001b[39m GeoPlotter(df)\n\u001b[1;32m      3\u001b[0m gp\u001b[38;5;241m.\u001b[39mplot(col_name\u001b[38;5;241m=\u001b[39m\u001b[38;5;124m'\u001b[39m\u001b[38;5;124mMS.MIL.XPND.CN\u001b[39m\u001b[38;5;124m'\u001b[39m)\n",
      "\u001b[0;31mNameError\u001b[0m: name 'pd' is not defined"
     ]
    }
   ],
   "source": [
    "df = pd.read_parquet('data.parquet', engine='pyarrow')\n",
    "gp = GeoPlotter(df)\n",
    "gp.plot(col_name='MS.MIL.XPND.CN')\n"
   ]
  },
  {
   "cell_type": "code",
   "execution_count": 14,
   "metadata": {},
   "outputs": [
    {
     "name": "stdout",
     "output_type": "stream",
     "text": [
      "{'id': '1', 'value': 'Agriculture & Rural Development', 'sourceNote': \"For the 70 percent of the world's poor who live in rural areas, agriculture is the main source of income and employment. But depletion and degradation of land and water pose serious challenges to producing enough food and other agricultural products to sustain livelihoods here and meet the needs of urban populations. Data presented here include measures of agricultural inputs, outputs, and productivity compiled by the UN's Food and Agriculture Organization.\"}\n",
      "{'id': '2', 'value': 'Aid Effectiveness', 'sourceNote': 'Aid effectiveness is the impact that aid has in reducing poverty and inequality, increasing growth, building capacity, and accelerating achievement of the Millennium Development Goals set by the international community. Indicators here cover aid received as well as progress in reducing poverty and improving education, health, and other measures of human welfare.'}\n",
      "{'id': '3', 'value': 'Economy & Growth', 'sourceNote': \"Economic growth is central to economic development. When national income grows, real people benefit. While there is no known formula for stimulating economic growth, data can help policy-makers better understand their countries' economic situations and guide any work toward improvement. Data here covers measures of economic growth, such as gross domestic product (GDP) and gross national income (GNI). It also includes indicators representing factors known to be relevant to economic growth, such as capital stock, employment, investment, savings, consumption, government spending, imports, and exports.\"}\n",
      "{'id': '4', 'value': 'Education', 'sourceNote': 'Education is one of the most powerful instruments for reducing poverty and inequality and lays a foundation for sustained economic growth. The World Bank compiles data on education inputs, participation, efficiency, and outcomes. Data on education are compiled by the United Nations Educational, Scientific, and Cultural Organization (UNESCO) Institute for Statistics from official responses to surveys and from reports provided by education authorities in each country.'}\n",
      "{'id': '5', 'value': 'Energy & Mining', 'sourceNote': \"The world economy needs ever-increasing amounts of energy to sustain economic growth, raise living standards, and reduce poverty. But today's trends in energy use are not sustainable. As the world's population grows and economies become more industrialized, nonrenewable energy sources will become scarcer and more costly. Data here on energy production, use, dependency, and efficiency are compiled by the World Bank from the International Energy Agency and the Carbon Dioxide Information Analysis Center.\"}\n",
      "{'id': '6', 'value': 'Environment', 'sourceNote': 'Natural and man-made environmental resources – fresh water, clean air, forests, grasslands, marine resources, and agro-ecosystems – provide sustenance and a foundation for social and economic development.  The need to safeguard these resources crosses all borders.  Today, the World Bank is one of the key promoters and financiers of environmental upgrading in the developing world. Data here cover forests, biodiversity, emissions, and pollution. Other indicators relevant to the environment are found under data pages for Agriculture & Rural Development, Energy & Mining, Infrastructure, and Urban Development.'}\n",
      "{'id': '7', 'value': 'Financial Sector', 'sourceNote': \"An economy's financial markets are critical to its overall development. Banking systems and stock markets enhance growth, the main factor in poverty reduction. Strong financial systems provide reliable and accessible information that lowers transaction costs, which in turn bolsters resource allocation and economic growth. Indicators here include the size and liquidity of stock markets; the accessibility, stability, and efficiency of financial systems; and international migration and workers\\\\ remittances, which affect growth and social welfare in both sending and receiving countries.\"}\n",
      "{'id': '8', 'value': 'Health', 'sourceNote': \"Improving health is central to the Millennium Development Goals, and the public sector is the main provider of health care in developing countries. To reduce inequities, many countries have emphasized primary health care, including immunization, sanitation, access to safe drinking water, and safe motherhood initiatives.  Data here cover health systems, disease prevention, reproductive health, nutrition, and population dynamics. Data are from the United Nations Population Division, World Health Organization, United Nations Children's Fund, the Joint United Nations Programme on HIV/AIDS, and various other sources.\"}\n",
      "{'id': '9', 'value': 'Infrastructure', 'sourceNote': 'Infrastructure helps determine the success of manufacturing and agricultural activities. Investments in water, sanitation, energy, housing, and transport also improve lives and help reduce poverty. And new information and communication technologies promote growth, improve delivery of health and other services, expand the reach of education, and support social and cultural advances. Data here are compiled from such sources as the International Road Federation, Containerisation International, the International Civil Aviation Organization, the International Energy Association, and the International Telecommunications Union.'}\n",
      "{'id': '10', 'value': 'Social Protection & Labor', 'sourceNote': 'The supply of labor available in an economy includes people who are employed, those who are unemployed but seeking work, and first-time job-seekers. Not everyone who works is included: unpaid workers, family workers, and students are often omitted, while some countries do not count members of the armed forces. Data on labor and employment are compiled by the International Labour Organization (ILO) from labor force surveys, censuses, establishment censuses and surveys, and administrative records such as employment exchange registers and unemployment insurance schemes.'}\n",
      "{'id': '11', 'value': 'Poverty', 'sourceNote': 'For countries with an active poverty monitoring program, the World Bank—in collaboration with national institutions, other development agencies, and civil society—regularly conducts analytical work to assess the extent and causes of poverty and inequality, examine the impact of growth and public policy, and review household survey data and measurement methods.  Data here includes poverty and inequality measures generated from analytical reports, from national poverty monitoring programs, and from the World Bank’s Development Research Group which has been producing internationally comparable and global poverty estimates and lines since 1990.'}\n",
      "{'id': '12', 'value': 'Private Sector', 'sourceNote': \"Private markets drive economic growth, tapping initiative and investment to create productive jobs and raise incomes. Trade is also a driver of economic growth as it integrates developing countries into the world economy and generates benefits for their people.  Data on the private sector and trade are from the World Bank Group's Private Participation in Infrastructure Project Database, Enterprise Surveys, and Doing Business Indicators, as well as from the International Monetary Fund's Balance of Payments database and International Financial Statistics, the UN Commission on Trade and Development, the World Trade Organization, and various other sources.\"}\n",
      "{'id': '13', 'value': 'Public Sector', 'sourceNote': \"Effective governments improve people's standard of living by ensuring access to essential services –  health, education, water and sanitation, electricity, transport – and the opportunity to live and work in peace and security. Data here includes World Bank staff assessments of country performance in economic management, structural policies, policies for social inclusion and equity, and public sector management and institutions for the poorest countries. Also included are indicators on revenues and expenses from the International Monetary Fund's Government Finance Statistics, and on tax policies from various sources.\"}\n",
      "{'id': '14', 'value': 'Science & Technology', 'sourceNote': 'Technological innovation, often fueled by governments, drives industrial growth and helps raise living standards. Data here aims to shed light on countries technology base: research and development, scientific and technical journal articles, high-technology exports, royalty and license fees, and patents and trademarks. Sources include the UNESCO Institute for Statistics, the U.S. National Science Board, the UN Statistics Division, the International Monetary Fund, and the World Intellectual Property Organization.'}\n",
      "{'id': '15', 'value': 'Social Development', 'sourceNote': \"Data here cover child labor, gender issues, refugees, and asylum seekers. Children in many countries work long hours, often combining studying with work for pay. The data on their paid work are from household surveys conducted by the International Labour Organization (ILO), the United Nations Children's Fund (UNICEF), the World Bank, and national statistical offices. Gender disparities are measured using a compilation of data on key topics such as education, health, labor force participation, and political participation.  Data on refugees are from the United Nations High Commissioner for Refugees complemented by statistics on Palestinian refugees under the mandate of the United Nations Relief and Works Agency.\"}\n",
      "{'id': '16', 'value': 'Urban Development', 'sourceNote': 'Cities can be tremendously efficient. It is easier to provide water and sanitation to people living closer together, while access to health, education, and other social and cultural services is also much more readily available. However, as cities grow, the cost of meeting basic needs increases, as does the strain on the environment and natural resources. Data on urbanization, traffic and congestion, and air pollution are from the United Nations Population Division, World Health Organization, International Road Federation, World Resources Institute, and other sources.'}\n",
      "{'id': '17', 'value': 'Gender', 'sourceNote': 'Gender equality is a core development objective in its own right. It is also smart development policy and sound business practice. It is integral to economic growth, business growth and good development outcomes. Gender equality can boost productivity, enhance prospects for the next generation, build resilience, and make institutions more representative and effective.  In December 2015, the World Bank Group Board discussed our new Gender Equality Strategy 2016-2023, which aims to address persistent gaps and proposed a sharpened focus on more and better gender data. The Bank Group is continually scaling up commitments and expanding partnerships to fill significant gaps in gender data. The database hosts the latest sex-disaggregated data and gender statistics covering demography, education, health, access to economic opportunities, public life and decision-making, and agency.'}\n",
      "{'id': '18', 'value': 'Millenium development goals', 'sourceNote': ''}\n",
      "{'id': '19', 'value': 'Climate Change', 'sourceNote': 'Climate change is expected to hit developing countries the hardest. Its effects—higher temperatures, changes in precipitation patterns, rising sea levels, and more frequent weather-related disasters—pose risks for agriculture, food, and water supplies. At stake are recent gains in the fight against poverty, hunger and disease, and the lives and livelihoods of billions of people in developing countries. Addressing climate change requires unprecedented global cooperation across borders. The World Bank Group is helping support developing countries and contributing to a global solution, while tailoring our approach to the differing needs of developing country partners.  Data here cover climate systems, exposure to climate impacts, resilience, greenhouse gas emissions, and energy use.  Other indicators relevant to climate change are found under other data pages, particularly Environment, Agriculture & Rural Development, Energy & Mining, Health, Infrastructure, Poverty, and Urban Development.'}\n",
      "{'id': '20', 'value': 'External Debt', 'sourceNote': 'Debt statistics provide a detailed picture of debt stocks and flows of developing countries. Data presented as part of the Quarterly External Debt Statistics takes a closer look at the external debt of high-income countries and emerging markets to enable a more complete understanding of global financial flows. The Quarterly Public Sector Debt database provides further data on public sector valuation methods, debt instruments, and clearly defined tiers of debt for central, state and local government, as well as extra-budgetary agencies and funds. Data are gathered from national statistical organizations and central banks as well as by various major multilateral institutions and World Bank staff.'}\n",
      "{'id': '21', 'value': 'Trade', 'sourceNote': 'Trade is a key means to fight poverty and achieve the Millennium Development Goals, specifically by improving developing country access to markets, and supporting a rules based, predictable trading system. In cooperation with other international development partners, the World Bank launched the Transparency in Trade Initiative to provide free and easy access to data on country-specific trade policies.'}\n"
     ]
    }
   ],
   "source": [
    "import wbgapi as wb\n",
    "wb.db = 2\n",
    "\n",
    "for i in wb.topic.list():\n",
    "    print(i)\n"
   ]
  }
 ],
 "metadata": {
  "kernelspec": {
   "display_name": "acme",
   "language": "python",
   "name": "python3"
  },
  "language_info": {
   "codemirror_mode": {
    "name": "ipython",
    "version": 3
   },
   "file_extension": ".py",
   "mimetype": "text/x-python",
   "name": "python",
   "nbconvert_exporter": "python",
   "pygments_lexer": "ipython3",
   "version": "3.12.2"
  }
 },
 "nbformat": 4,
 "nbformat_minor": 2
}
