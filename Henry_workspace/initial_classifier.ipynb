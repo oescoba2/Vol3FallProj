{
 "cells": [
  {
   "cell_type": "code",
   "execution_count": 25,
   "metadata": {},
   "outputs": [],
   "source": [
    "import numpy as np\n",
    "import pandas as pd\n",
    "from sklearn.ensemble import RandomForestClassifier\n",
    "from sklearn.model_selection import GridSearchCV\n",
    "from sklearn.ensemble import RandomForestClassifier\n",
    "from sklearn.neighbors import KNeighborsClassifier\n",
    "\n",
    "from sklearn.model_selection import train_test_split\n",
    "from sklearn.metrics import classification_report\n",
    "from sklearn.metrics import confusion_matrix"
   ]
  },
  {
   "cell_type": "code",
   "execution_count": 21,
   "metadata": {},
   "outputs": [],
   "source": [
    "df = pd.read_csv(\"/Users/henryfetzer/Documents/ACME/Vol3FallProj/data/Life_Expectancy_Data.csv\")"
   ]
  },
  {
   "cell_type": "code",
   "execution_count": 22,
   "metadata": {},
   "outputs": [
    {
     "name": "stdout",
     "output_type": "stream",
     "text": [
      "(2938, 22)\n",
      "(1649, 20)\n"
     ]
    }
   ],
   "source": [
    "print(df.shape)\n",
    "df = df.dropna()\n",
    "df = df.rename(columns={'Life expectancy ': 'Life expectancy', 'under-five deaths ':'under-five deaths',\n",
    "                        'Measles ':'Measles'})\n",
    "df.drop(columns=['Country', 'Status'], inplace=True)\n",
    "print(df.shape)\n"
   ]
  },
  {
   "cell_type": "code",
   "execution_count": 23,
   "metadata": {},
   "outputs": [
    {
     "name": "stdout",
     "output_type": "stream",
     "text": [
      "Index(['Year', 'Life expectancy', 'Adult Mortality', 'infant deaths',\n",
      "       'Alcohol', 'percentage expenditure', 'Hepatitis B', 'Measles', ' BMI ',\n",
      "       'under-five deaths', 'Polio', 'Total expenditure', 'Diphtheria ',\n",
      "       ' HIV/AIDS', 'GDP', 'Population', ' thinness  1-19 years',\n",
      "       ' thinness 5-9 years', 'Income composition of resources', 'Schooling'],\n",
      "      dtype='object')\n",
      "Year                                 int64\n",
      "Life expectancy                    float64\n",
      "Adult Mortality                    float64\n",
      "infant deaths                        int64\n",
      "Alcohol                            float64\n",
      "percentage expenditure             float64\n",
      "Hepatitis B                        float64\n",
      "Measles                              int64\n",
      " BMI                               float64\n",
      "under-five deaths                    int64\n",
      "Polio                              float64\n",
      "Total expenditure                  float64\n",
      "Diphtheria                         float64\n",
      " HIV/AIDS                          float64\n",
      "GDP                                float64\n",
      "Population                         float64\n",
      " thinness  1-19 years              float64\n",
      " thinness 5-9 years                float64\n",
      "Income composition of resources    float64\n",
      "Schooling                          float64\n",
      "life_over_70                         int64\n",
      "dtype: object\n"
     ]
    }
   ],
   "source": [
    "# Create target column\n",
    "df['life_over_70'] = (df['Life expectancy'] >= 70).astype(int)"
   ]
  },
  {
   "cell_type": "code",
   "execution_count": 31,
   "metadata": {},
   "outputs": [
    {
     "name": "stdout",
     "output_type": "stream",
     "text": [
      "(1319, 18)\n"
     ]
    }
   ],
   "source": [
    "# Train test split\n",
    "data = df.drop(columns=['life_over_70', 'Life expectancy', 'Adult Mortality'])\n",
    "target = df['life_over_70']\n",
    "X_train, X_test, y_train, y_test = train_test_split(data, target, test_size=0.2)\n",
    "\n",
    "print(X_train.shape)"
   ]
  },
  {
   "cell_type": "code",
   "execution_count": 32,
   "metadata": {},
   "outputs": [
    {
     "name": "stdout",
     "output_type": "stream",
     "text": [
      "{'max_depth': 12, 'max_features': None, 'n_estimators': 200, 'random_state': 43}\n",
      "0.9678549374141016\n"
     ]
    }
   ],
   "source": [
    "#Grid search for best classifier\n",
    "# classifier\n",
    "rfc = RandomForestClassifier()\n",
    "\n",
    "# specify hyperparameters\n",
    "param_grid = {\"max_depth\": [4,8,12],\n",
    "              \"random_state\": [43],\n",
    "              \"max_features\": ['sqrt', 'log2', None],\n",
    "              \"n_estimators\": [100,200]\n",
    "              }\n",
    "rfc_gs = GridSearchCV(rfc, param_grid, scoring=\"f1\", n_jobs=-1)\n",
    "\n",
    "# run the search\n",
    "rfc_gs.fit(X_train, y_train)\n",
    "\n",
    "\n",
    "# print best parameters and resulting score\n",
    "print(rfc_gs.best_params_, rfc_gs.best_score_, sep='\\n')"
   ]
  },
  {
   "cell_type": "code",
   "execution_count": 34,
   "metadata": {},
   "outputs": [
    {
     "name": "stdout",
     "output_type": "stream",
     "text": [
      "Income composition of resources: 0.563502551342364\n",
      " thinness 5-9 years: 0.06575186464455186\n",
      " HIV/AIDS: 0.053929388725409116\n",
      "Alcohol: 0.05326696604150363\n",
      " thinness  1-19 years: 0.049585035860332784\n",
      "Schooling: 0.03603780010692025\n",
      "Total expenditure: 0.0330654533249436\n",
      "under-five deaths: 0.021749843710642452\n",
      " BMI : 0.021599087563967317\n",
      "infant deaths: 0.016643654341133466\n",
      "GDP: 0.01664233221579997\n",
      "percentage expenditure: 0.014693784252457154\n",
      "Population: 0.009791680900039769\n",
      "Hepatitis B: 0.009779298377503806\n",
      "Year: 0.009629433885508805\n",
      "Polio: 0.00909817818214182\n",
      "Measles: 0.007791707615000128\n",
      "Diphtheria : 0.007441938909780173\n"
     ]
    }
   ],
   "source": [
    "# zip features importance and names together\n",
    "feature_names = data.columns\n",
    "features_and_importance = sorted(zip(rfc_gs.best_estimator_.feature_importances_, feature_names), \n",
    "                                 reverse=True)\n",
    "\n",
    "for importance, name in features_and_importance:\n",
    "    print(f\"{name}: {importance}\")"
   ]
  },
  {
   "cell_type": "markdown",
   "metadata": {},
   "source": [
    "With just some preliminary data analysis...\n",
    "\n",
    "Most important: income composition of resources, thinness of 5-9 year olds, and cases of HIV/AIDS\n",
    "\n",
    "Least important: numer of reported cases for various diseases like Polio"
   ]
  }
 ],
 "metadata": {
  "kernelspec": {
   "display_name": "base",
   "language": "python",
   "name": "python3"
  },
  "language_info": {
   "codemirror_mode": {
    "name": "ipython",
    "version": 3
   },
   "file_extension": ".py",
   "mimetype": "text/x-python",
   "name": "python",
   "nbconvert_exporter": "python",
   "pygments_lexer": "ipython3",
   "version": "3.11.5"
  }
 },
 "nbformat": 4,
 "nbformat_minor": 2
}
