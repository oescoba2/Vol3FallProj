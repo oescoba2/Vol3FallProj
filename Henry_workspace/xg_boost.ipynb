{
 "cells": [
  {
   "cell_type": "code",
   "execution_count": 1,
   "metadata": {},
   "outputs": [],
   "source": [
    "from sklearn.ensemble import GradientBoostingClassifier\n",
    "import numpy as np\n",
    "import pandas as pd\n",
    "from sklearn.model_selection import GridSearchCV\n",
    "from sklearn.ensemble import RandomForestClassifier\n",
    "import xgboost as xgb\n",
    "\n",
    "from sklearn.model_selection import train_test_split\n",
    "from sklearn.metrics import classification_report\n",
    "from sklearn.metrics import confusion_matrix"
   ]
  },
  {
   "cell_type": "code",
   "execution_count": 2,
   "metadata": {},
   "outputs": [],
   "source": [
    "df = pd.read_csv(\"/Users/henryfetzer/Documents/ACME/Vol3FallProj/data/Life_Expectancy_Data.csv\")"
   ]
  },
  {
   "cell_type": "code",
   "execution_count": 3,
   "metadata": {},
   "outputs": [
    {
     "name": "stdout",
     "output_type": "stream",
     "text": [
      "(2938, 22)\n",
      "(1649, 20)\n"
     ]
    }
   ],
   "source": [
    "print(df.shape)\n",
    "df = df.dropna()\n",
    "df = df.rename(columns={'Life expectancy ': 'Life expectancy', 'under-five deaths ':'under-five deaths',\n",
    "                        'Measles ':'Measles'})\n",
    "df.drop(columns=['Country', 'Status'], inplace=True)\n",
    "print(df.shape)\n"
   ]
  },
  {
   "cell_type": "code",
   "execution_count": 4,
   "metadata": {},
   "outputs": [],
   "source": [
    "# Create target column\n",
    "df['life_over_70'] = (df['Life expectancy'] >= 70).astype(int)"
   ]
  },
  {
   "cell_type": "code",
   "execution_count": 5,
   "metadata": {},
   "outputs": [
    {
     "name": "stdout",
     "output_type": "stream",
     "text": [
      "(1319, 18)\n"
     ]
    }
   ],
   "source": [
    "# Train test split\n",
    "data = df.drop(columns=['life_over_70', 'Life expectancy', 'Adult Mortality'])\n",
    "target = df['life_over_70']\n",
    "X_train, X_test, y_train, y_test = train_test_split(data, target, test_size=0.2)\n",
    "\n",
    "print(X_train.shape)"
   ]
  },
  {
   "cell_type": "code",
   "execution_count": 11,
   "metadata": {},
   "outputs": [
    {
     "name": "stdout",
     "output_type": "stream",
     "text": [
      "Fitting 2 folds for each of 54 candidates, totalling 108 fits\n",
      "[CV 2/2] END alpha=0.1, eta=0.4, gamma=0.1, lambda=1;, score=0.954 total time=   0.2s\n",
      "[CV 1/2] END alpha=0.1, eta=0.4, gamma=0.1, lambda=0.5;, score=0.946 total time=   0.2s\n",
      "[CV 2/2] END alpha=0.1, eta=0.4, gamma=0.1, lambda=0.5;, score=0.958 total time=   0.2s\n",
      "[CV 1/2] END alpha=0.1, eta=0.4, gamma=0.1, lambda=1;, score=0.948 total time=   0.2s\n",
      "[CV 1/2] END alpha=0.1, eta=0.4, gamma=0.08, lambda=1;, score=0.946 total time=   0.2s\n",
      "[CV 2/2] END alpha=0.1, eta=0.4, gamma=0.08, lambda=0.5;, score=0.957 total time=   0.2s\n",
      "[CV 1/2] END alpha=0.1, eta=0.4, gamma=0.08, lambda=0.5;, score=0.949 total time=   0.2s\n",
      "[CV 2/2] END alpha=0.1, eta=0.4, gamma=0.08, lambda=1;, score=0.961 total time=   0.2s\n",
      "[CV 1/2] END alpha=0.1, eta=0.4, gamma=0.2, lambda=0.5;, score=0.951 total time=   0.2s\n",
      "[CV 1/2] END alpha=0.1, eta=0.4, gamma=0.2, lambda=1;, score=0.946 total time=   0.1s\n",
      "[CV 2/2] END alpha=0.1, eta=0.4, gamma=0.2, lambda=0.5;, score=0.957 total time=   0.2s\n",
      "[CV 2/2] END alpha=0.1, eta=0.4, gamma=0.2, lambda=1;, score=0.957 total time=   0.1s\n",
      "[CV 1/2] END alpha=0.1, eta=0.6, gamma=0.1, lambda=0.5;, score=0.954 total time=   0.1s\n",
      "[CV 2/2] END alpha=0.1, eta=0.6, gamma=0.1, lambda=0.5;, score=0.962 total time=   0.1s\n",
      "[CV 1/2] END alpha=0.1, eta=0.6, gamma=0.1, lambda=1;, score=0.954 total time=   0.1s\n",
      "[CV 2/2] END alpha=0.1, eta=0.6, gamma=0.1, lambda=1;, score=0.960 total time=   0.1s\n",
      "[CV 1/2] END alpha=0.1, eta=0.6, gamma=0.08, lambda=0.5;, score=0.951 total time=   0.1s\n",
      "[CV 2/2] END alpha=0.1, eta=0.6, gamma=0.08, lambda=0.5;, score=0.955 total time=   0.1s\n",
      "[CV 1/2] END alpha=0.1, eta=0.6, gamma=0.08, lambda=1;, score=0.949 total time=   0.1s\n",
      "[CV 2/2] END alpha=0.1, eta=0.6, gamma=0.08, lambda=1;, score=0.954 total time=   0.1s\n",
      "[CV 1/2] END alpha=0.1, eta=0.6, gamma=0.2, lambda=0.5;, score=0.949 total time=   0.1s\n",
      "[CV 2/2] END alpha=0.1, eta=0.6, gamma=0.2, lambda=0.5;, score=0.952 total time=   0.1s\n",
      "[CV 1/2] END alpha=0.1, eta=0.6, gamma=0.2, lambda=1;, score=0.948 total time=   0.1s\n",
      "[CV 2/2] END alpha=0.1, eta=0.6, gamma=0.2, lambda=1;, score=0.955 total time=   0.1s\n",
      "[CV 2/2] END alpha=0.1, eta=0.7, gamma=0.1, lambda=0.5;, score=0.944 total time=   0.1s\n",
      "[CV 1/2] END alpha=0.1, eta=0.7, gamma=0.1, lambda=0.5;, score=0.952 total time=   0.1s\n",
      "[CV 1/2] END alpha=0.1, eta=0.7, gamma=0.1, lambda=1;, score=0.948 total time=   0.1s\n",
      "[CV 2/2] END alpha=0.1, eta=0.7, gamma=0.1, lambda=1;, score=0.952 total time=   0.1s\n",
      "[CV 2/2] END alpha=0.1, eta=0.7, gamma=0.08, lambda=0.5;, score=0.948 total time=   0.2s\n",
      "[CV 1/2] END alpha=0.1, eta=0.7, gamma=0.08, lambda=0.5;, score=0.952 total time=   0.2s\n",
      "[CV 1/2] END alpha=0.1, eta=0.7, gamma=0.08, lambda=1;, score=0.946 total time=   0.2s\n",
      "[CV 2/2] END alpha=0.1, eta=0.7, gamma=0.08, lambda=1;, score=0.952 total time=   0.2s\n",
      "[CV 1/2] END alpha=0.1, eta=0.7, gamma=0.2, lambda=0.5;, score=0.945 total time=   0.1s\n",
      "[CV 2/2] END alpha=0.1, eta=0.7, gamma=0.2, lambda=0.5;, score=0.949 total time=   0.1s\n",
      "[CV 2/2] END alpha=0.1, eta=0.7, gamma=0.2, lambda=1;, score=0.952 total time=   0.1s\n",
      "[CV 1/2] END alpha=0.1, eta=0.7, gamma=0.2, lambda=1;, score=0.946 total time=   0.1s\n",
      "[CV 1/2] END alpha=0.2, eta=0.4, gamma=0.1, lambda=0.5;, score=0.948 total time=   0.1s\n",
      "[CV 2/2] END alpha=0.2, eta=0.4, gamma=0.1, lambda=0.5;, score=0.958 total time=   0.2s\n",
      "[CV 1/2] END alpha=0.2, eta=0.4, gamma=0.1, lambda=1;, score=0.945 total time=   0.2s\n",
      "[CV 2/2] END alpha=0.2, eta=0.4, gamma=0.1, lambda=1;, score=0.952 total time=   0.2s\n",
      "[CV 1/2] END alpha=0.2, eta=0.4, gamma=0.08, lambda=0.5;, score=0.945 total time=   0.2s\n",
      "[CV 2/2] END alpha=0.2, eta=0.4, gamma=0.08, lambda=0.5;, score=0.960 total time=   0.2s\n",
      "[CV 1/2] END alpha=0.2, eta=0.4, gamma=0.08, lambda=1;, score=0.946 total time=   0.2s\n",
      "[CV 2/2] END alpha=0.2, eta=0.4, gamma=0.08, lambda=1;, score=0.945 total time=   0.2s\n",
      "[CV 1/2] END alpha=0.2, eta=0.4, gamma=0.2, lambda=0.5;, score=0.942 total time=   0.1s\n",
      "[CV 2/2] END alpha=0.2, eta=0.4, gamma=0.2, lambda=0.5;, score=0.958 total time=   0.1s\n",
      "[CV 1/2] END alpha=0.2, eta=0.4, gamma=0.2, lambda=1;, score=0.940 total time=   0.1s\n",
      "[CV 2/2] END alpha=0.2, eta=0.4, gamma=0.2, lambda=1;, score=0.961 total time=   0.1s\n",
      "[CV 1/2] END alpha=0.2, eta=0.6, gamma=0.1, lambda=0.5;, score=0.960 total time=   0.1s\n",
      "[CV 2/2] END alpha=0.2, eta=0.6, gamma=0.1, lambda=0.5;, score=0.955 total time=   0.1s\n",
      "[CV 1/2] END alpha=0.2, eta=0.6, gamma=0.1, lambda=1;, score=0.949 total time=   0.1s\n",
      "[CV 2/2] END alpha=0.2, eta=0.6, gamma=0.1, lambda=1;, score=0.955 total time=   0.1s\n",
      "[CV 1/2] END alpha=0.2, eta=0.6, gamma=0.08, lambda=0.5;, score=0.957 total time=   0.1s\n",
      "[CV 2/2] END alpha=0.2, eta=0.6, gamma=0.08, lambda=0.5;, score=0.960 total time=   0.1s\n",
      "[CV 1/2] END alpha=0.2, eta=0.6, gamma=0.08, lambda=1;, score=0.946 total time=   0.1s\n",
      "[CV 2/2] END alpha=0.2, eta=0.6, gamma=0.08, lambda=1;, score=0.958 total time=   0.1s\n",
      "[CV 1/2] END alpha=0.2, eta=0.6, gamma=0.2, lambda=0.5;, score=0.946 total time=   0.1s\n",
      "[CV 2/2] END alpha=0.2, eta=0.6, gamma=0.2, lambda=0.5;, score=0.951 total time=   0.1s\n",
      "[CV 1/2] END alpha=0.2, eta=0.6, gamma=0.2, lambda=1;, score=0.948 total time=   0.1s\n",
      "[CV 2/2] END alpha=0.2, eta=0.6, gamma=0.2, lambda=1;, score=0.955 total time=   0.1s\n",
      "[CV 1/2] END alpha=0.2, eta=0.7, gamma=0.1, lambda=0.5;, score=0.952 total time=   0.1s\n",
      "[CV 2/2] END alpha=0.2, eta=0.7, gamma=0.1, lambda=0.5;, score=0.949 total time=   0.1s\n",
      "[CV 2/2] END alpha=0.2, eta=0.7, gamma=0.1, lambda=1;, score=0.949 total time=   0.1s\n",
      "[CV 1/2] END alpha=0.2, eta=0.7, gamma=0.1, lambda=1;, score=0.940 total time=   0.1s\n",
      "[CV 2/2] END alpha=0.2, eta=0.7, gamma=0.08, lambda=0.5;, score=0.945 total time=   0.2s\n",
      "[CV 1/2] END alpha=0.2, eta=0.7, gamma=0.08, lambda=0.5;, score=0.949 total time=   0.2s\n",
      "[CV 1/2] END alpha=0.2, eta=0.7, gamma=0.08, lambda=1;, score=0.940 total time=   0.2s\n",
      "[CV 2/2] END alpha=0.2, eta=0.7, gamma=0.08, lambda=1;, score=0.955 total time=   0.1s\n",
      "[CV 2/2] END alpha=0.2, eta=0.7, gamma=0.2, lambda=0.5;, score=0.946 total time=   0.1s\n",
      "[CV 1/2] END alpha=0.2, eta=0.7, gamma=0.2, lambda=0.5;, score=0.942 total time=   0.1s\n",
      "[CV 2/2] END alpha=0.2, eta=0.7, gamma=0.2, lambda=1;, score=0.951 total time=   0.1s\n",
      "[CV 1/2] END alpha=0.2, eta=0.7, gamma=0.2, lambda=1;, score=0.945 total time=   0.1s\n",
      "[CV 1/2] END alpha=1, eta=0.4, gamma=0.1, lambda=0.5;, score=0.945 total time=   0.2s\n",
      "[CV 2/2] END alpha=1, eta=0.4, gamma=0.1, lambda=0.5;, score=0.952 total time=   0.2s\n",
      "[CV 2/2] END alpha=1, eta=0.4, gamma=0.1, lambda=1;, score=0.947 total time=   0.1s\n",
      "[CV 1/2] END alpha=1, eta=0.4, gamma=0.1, lambda=1;, score=0.948 total time=   0.2s\n",
      "[CV 1/2] END alpha=1, eta=0.4, gamma=0.08, lambda=0.5;, score=0.946 total time=   0.2s\n",
      "[CV 2/2] END alpha=1, eta=0.4, gamma=0.08, lambda=0.5;, score=0.957 total time=   0.2s\n",
      "[CV 1/2] END alpha=1, eta=0.4, gamma=0.08, lambda=1;, score=0.948 total time=   0.2s\n",
      "[CV 2/2] END alpha=1, eta=0.4, gamma=0.08, lambda=1;, score=0.954 total time=   0.2s\n",
      "[CV 1/2] END alpha=1, eta=0.4, gamma=0.2, lambda=0.5;, score=0.942 total time=   0.2s\n",
      "[CV 2/2] END alpha=1, eta=0.4, gamma=0.2, lambda=0.5;, score=0.951 total time=   0.2s\n",
      "[CV 1/2] END alpha=1, eta=0.4, gamma=0.2, lambda=1;, score=0.948 total time=   0.1s\n",
      "[CV 2/2] END alpha=1, eta=0.4, gamma=0.2, lambda=1;, score=0.946 total time=   0.1s\n",
      "[CV 1/2] END alpha=1, eta=0.6, gamma=0.1, lambda=0.5;, score=0.940 total time=   0.2s\n",
      "[CV 2/2] END alpha=1, eta=0.6, gamma=0.1, lambda=0.5;, score=0.957 total time=   0.2s\n",
      "[CV 1/2] END alpha=1, eta=0.6, gamma=0.1, lambda=1;, score=0.945 total time=   0.2s\n",
      "[CV 2/2] END alpha=1, eta=0.6, gamma=0.1, lambda=1;, score=0.963 total time=   0.2s\n",
      "[CV 1/2] END alpha=1, eta=0.6, gamma=0.08, lambda=0.5;, score=0.939 total time=   0.1s\n",
      "[CV 2/2] END alpha=1, eta=0.6, gamma=0.08, lambda=0.5;, score=0.954 total time=   0.1s\n",
      "[CV 1/2] END alpha=1, eta=0.6, gamma=0.08, lambda=1;, score=0.948 total time=   0.1s\n",
      "[CV 2/2] END alpha=1, eta=0.6, gamma=0.08, lambda=1;, score=0.961 total time=   0.1s\n",
      "[CV 2/2] END alpha=1, eta=0.6, gamma=0.2, lambda=0.5;, score=0.961 total time=   0.1s[CV 1/2] END alpha=1, eta=0.6, gamma=0.2, lambda=0.5;, score=0.942 total time=   0.1s\n",
      "\n",
      "[CV 1/2] END alpha=1, eta=0.6, gamma=0.2, lambda=1;, score=0.942 total time=   0.1s\n",
      "[CV 2/2] END alpha=1, eta=0.6, gamma=0.2, lambda=1;, score=0.954 total time=   0.1s\n",
      "[CV 1/2] END alpha=1, eta=0.7, gamma=0.1, lambda=0.5;, score=0.949 total time=   0.1s\n",
      "[CV 2/2] END alpha=1, eta=0.7, gamma=0.1, lambda=0.5;, score=0.949 total time=   0.1s\n",
      "[CV 1/2] END alpha=1, eta=0.7, gamma=0.1, lambda=1;, score=0.937 total time=   0.1s\n",
      "[CV 2/2] END alpha=1, eta=0.7, gamma=0.1, lambda=1;, score=0.945 total time=   0.1s\n",
      "[CV 1/2] END alpha=1, eta=0.7, gamma=0.08, lambda=0.5;, score=0.949 total time=   0.1s\n",
      "[CV 2/2] END alpha=1, eta=0.7, gamma=0.08, lambda=0.5;, score=0.943 total time=   0.1s\n",
      "[CV 1/2] END alpha=1, eta=0.7, gamma=0.08, lambda=1;, score=0.943 total time=   0.1s\n",
      "[CV 2/2] END alpha=1, eta=0.7, gamma=0.08, lambda=1;, score=0.960 total time=   0.1s\n",
      "[CV 1/2] END alpha=1, eta=0.7, gamma=0.2, lambda=0.5;, score=0.945 total time=   0.1s\n",
      "[CV 2/2] END alpha=1, eta=0.7, gamma=0.2, lambda=0.5;, score=0.952 total time=   0.1s\n",
      "[CV 1/2] END alpha=1, eta=0.7, gamma=0.2, lambda=1;, score=0.940 total time=   0.1s\n",
      "[CV 2/2] END alpha=1, eta=0.7, gamma=0.2, lambda=1;, score=0.946 total time=   0.1s\n",
      "{'alpha': 0.2, 'eta': 0.6, 'gamma': 0.08, 'lambda': 0.5}\n",
      "0.9586010315433346\n"
     ]
    }
   ],
   "source": [
    "xgb_classifier = xgb.XGBClassifier(objective=\"binary:logistic\", random_state=42)\n",
    "\n",
    "param_grid = {\"alpha\": [0.1, 0.2, 1],\n",
    "              \"gamma\": [0.1,0.08, 0.2],\n",
    "              \"lambda\": [0.5, 1],\n",
    "              \"eta\": [0.4,0.6,0.7]}\n",
    "gs = GridSearchCV(xgb_classifier, param_grid, scoring='f1_macro', n_jobs=-1, verbose=3, cv=2)\n",
    "\n",
    "# run the search\n",
    "gs.fit(X_train, y_train)\n",
    "\n",
    "\n",
    "# print best parameters and resulting score\n",
    "print(gs.best_params_, gs.best_score_, sep='\\n')"
   ]
  },
  {
   "cell_type": "code",
   "execution_count": 13,
   "metadata": {},
   "outputs": [
    {
     "name": "stdout",
     "output_type": "stream",
     "text": [
      "Income composition of resources: 0.34938961267471313\n",
      " thinness 5-9 years: 0.09346988797187805\n",
      "GDP: 0.08584621548652649\n",
      " HIV/AIDS: 0.08139563351869583\n",
      " thinness  1-19 years: 0.07878314703702927\n",
      "Total expenditure: 0.05293281376361847\n",
      "infant deaths: 0.035944558680057526\n",
      "Schooling: 0.03261682018637657\n",
      "Alcohol: 0.0294638704508543\n",
      "Polio: 0.02524624578654766\n",
      "percentage expenditure: 0.018992658704519272\n",
      "under-five deaths: 0.01840507797896862\n",
      "Diphtheria : 0.018251385539770126\n",
      " BMI : 0.017909187823534012\n",
      "Year: 0.017763130366802216\n",
      "Measles: 0.015683604404330254\n",
      "Population: 0.015268041752278805\n",
      "Hepatitis B: 0.012638079933822155\n"
     ]
    }
   ],
   "source": [
    "# zip features importance and names together\n",
    "feature_names = data.columns\n",
    "features_and_importance = sorted(zip(gs.best_estimator_.feature_importances_, feature_names), \n",
    "                                 reverse=True)\n",
    "\n",
    "for importance, name in features_and_importance:\n",
    "    print(f\"{name}: {importance}\")"
   ]
  },
  {
   "cell_type": "markdown",
   "metadata": {},
   "source": [
    "The result is close, but the accuracy is a little worse. I would probably have to spend more time tuning hyperparameters."
   ]
  }
 ],
 "metadata": {
  "kernelspec": {
   "display_name": "base",
   "language": "python",
   "name": "python3"
  },
  "language_info": {
   "codemirror_mode": {
    "name": "ipython",
    "version": 3
   },
   "file_extension": ".py",
   "mimetype": "text/x-python",
   "name": "python",
   "nbconvert_exporter": "python",
   "pygments_lexer": "ipython3",
   "version": "3.11.5"
  }
 },
 "nbformat": 4,
 "nbformat_minor": 2
}
