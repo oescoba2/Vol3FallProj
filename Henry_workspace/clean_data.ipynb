{
 "cells": [
  {
   "cell_type": "code",
   "execution_count": 5,
   "metadata": {},
   "outputs": [],
   "source": [
    "import DataPipeline\n",
    "#import model\n",
    "import pandas as pd\n",
    "from sklearn.impute import KNNImputer"
   ]
  },
  {
   "cell_type": "code",
   "execution_count": 16,
   "metadata": {},
   "outputs": [
    {
     "name": "stdout",
     "output_type": "stream",
     "text": [
      "Year                                 0\n",
      "Life expectancy                      0\n",
      "Adult Mortality                      0\n",
      "infant deaths                        0\n",
      "Alcohol                            188\n",
      "percentage expenditure               0\n",
      "Hepatitis B                        536\n",
      "Measles                              0\n",
      " BMI                                32\n",
      "under-five deaths                    0\n",
      "Polio                               19\n",
      "Total expenditure                  221\n",
      "Diphtheria                          19\n",
      " HIV/AIDS                            0\n",
      "GDP                                411\n",
      "Population                         612\n",
      " thinness  1-19 years               32\n",
      " thinness 5-9 years                 32\n",
      "Income composition of resources    144\n",
      "Schooling                          144\n",
      "dtype: int64\n",
      "Country                            0\n",
      "Year                               0\n",
      "Status                             0\n",
      "Life expectancy                    0\n",
      "Adult Mortality                    0\n",
      "infant deaths                      0\n",
      "Alcohol                            0\n",
      "percentage expenditure             0\n",
      "Hepatitis B                        0\n",
      "Measles                            0\n",
      " BMI                               0\n",
      "under-five deaths                  0\n",
      "Polio                              0\n",
      "Total expenditure                  0\n",
      "Diphtheria                         0\n",
      " HIV/AIDS                          0\n",
      "GDP                                0\n",
      "Population                         0\n",
      " thinness  1-19 years              0\n",
      " thinness 5-9 years                0\n",
      "Income composition of resources    0\n",
      "Schooling                          0\n",
      "dtype: int64\n"
     ]
    }
   ],
   "source": [
    "df = pd.read_csv(\"../data/Kagg_life_data.csv\")\n",
    "\n",
    "df_floats = df.drop(columns=[\"Country\", \"Status\"])\n",
    "print(df_floats.isna().sum())\n",
    "\n",
    "imputer = KNNImputer().fit(df_floats)\n",
    "\n",
    "imputed_df = imputer.transform(df_floats)\n",
    "\n",
    "df[df_floats.columns] = imputed_df\n",
    "print(df.isna().sum())"
   ]
  },
  {
   "cell_type": "code",
   "execution_count": null,
   "metadata": {},
   "outputs": [],
   "source": []
  }
 ],
 "metadata": {
  "kernelspec": {
   "display_name": "Python 3",
   "language": "python",
   "name": "python3"
  },
  "language_info": {
   "codemirror_mode": {
    "name": "ipython",
    "version": 3
   },
   "file_extension": ".py",
   "mimetype": "text/x-python",
   "name": "python",
   "nbconvert_exporter": "python",
   "pygments_lexer": "ipython3",
   "version": "3.10.15"
  }
 },
 "nbformat": 4,
 "nbformat_minor": 2
}
