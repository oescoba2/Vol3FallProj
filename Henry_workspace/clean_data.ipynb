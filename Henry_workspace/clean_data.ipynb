{
 "cells": [
  {
   "cell_type": "code",
   "execution_count": 6,
   "metadata": {},
   "outputs": [],
   "source": [
    "import DataPipeline\n",
    "#import model\n",
    "import pandas as pd\n",
    "from sklearn.impute import KNNImputer\n",
    "from sklearn.ensemble import IsolationForest\n",
    "import numpy as np"
   ]
  },
  {
   "cell_type": "code",
   "execution_count": 4,
   "metadata": {},
   "outputs": [
    {
     "name": "stdout",
     "output_type": "stream",
     "text": [
      "Year                                 0\n",
      "Life expectancy                      0\n",
      "Adult Mortality                      0\n",
      "infant deaths                        0\n",
      "Alcohol                            188\n",
      "percentage expenditure               0\n",
      "Hepatitis B                        536\n",
      "Measles                              0\n",
      " BMI                                32\n",
      "under-five deaths                    0\n",
      "Polio                               19\n",
      "Total expenditure                  221\n",
      "Diphtheria                          19\n",
      " HIV/AIDS                            0\n",
      "GDP                                411\n",
      "Population                         612\n",
      " thinness  1-19 years               32\n",
      " thinness 5-9 years                 32\n",
      "Income composition of resources    144\n",
      "Schooling                          144\n",
      "dtype: int64\n",
      "Country                            0\n",
      "Year                               0\n",
      "Status                             0\n",
      "Life expectancy                    0\n",
      "Adult Mortality                    0\n",
      "infant deaths                      0\n",
      "Alcohol                            0\n",
      "percentage expenditure             0\n",
      "Hepatitis B                        0\n",
      "Measles                            0\n",
      " BMI                               0\n",
      "under-five deaths                  0\n",
      "Polio                              0\n",
      "Total expenditure                  0\n",
      "Diphtheria                         0\n",
      " HIV/AIDS                          0\n",
      "GDP                                0\n",
      "Population                         0\n",
      " thinness  1-19 years              0\n",
      " thinness 5-9 years                0\n",
      "Income composition of resources    0\n",
      "Schooling                          0\n",
      "dtype: int64\n"
     ]
    }
   ],
   "source": [
    "# Imputer\n",
    "df = pd.read_csv(\"../data/Kagg_life_data.csv\")\n",
    "\n",
    "df_floats = df.drop(columns=[\"Country\", \"Status\"])\n",
    "print(df_floats.isna().sum())\n",
    "\n",
    "imputer = KNNImputer().fit(df_floats)\n",
    "\n",
    "imputed_df = imputer.transform(df_floats)\n",
    "\n",
    "df[df_floats.columns] = imputed_df\n",
    "print(df.isna().sum())"
   ]
  },
  {
   "cell_type": "code",
   "execution_count": null,
   "metadata": {},
   "outputs": [
    {
     "name": "stdout",
     "output_type": "stream",
     "text": [
      "236\n",
      "(2674, 22) (2848, 22)\n"
     ]
    }
   ],
   "source": [
    "# Isolation Forest to remove outliers\n",
    "\n",
    "def remove_outliers(self, data: pd.DataFrame, cutoff: float = 0.0) -> pd.DataFrame:\n",
    "    \"\"\"Remove outliers with an isolation forest\n",
    "    \n",
    "    Only numerical data is modified. All NaNs must already be removed.\n",
    "\n",
    "    Parameters:\n",
    "    ----------\n",
    "        data  (pd.DataFrame): dataframe to alter\n",
    "        cutoff (float): Cutoff for anomaly scores. Typically, anything less than 0 \n",
    "            is considered an outlier\n",
    "\n",
    "\n",
    "    \"\"\"\n",
    "    # Record original n_samples\n",
    "    n_samples = data.shape[0]\n",
    "\n",
    "    # Change only numeric data\n",
    "    numeric_cols = data.select_dtypes(include=['float64', 'int']).columns.tolist()\n",
    "    numeric_data = data[numeric_cols]\n",
    "    \n",
    "    # Create anomaly scores for dataframe\n",
    "    forest = IsolationForest().fit(numeric_data)\n",
    "    scores = forest.decision_function(numeric_data)\n",
    "\n",
    "    # Filter out anomolous rows\n",
    "    data = data[scores >= cutoff]\n",
    "\n",
    "    # Print % of data removed\n",
    "    print( (scores < cutoff).sum() / n_samples)\n",
    "\n",
    "    return data\n",
    "\n",
    "\n",
    "# Change only numeric data\n",
    "numeric_cols = df.select_dtypes(include=['float64', 'int']).columns.tolist()\n",
    "numeric_data = df[numeric_cols]\n",
    "\n",
    "# Create anomaly scores for dataframe\n",
    "forest = IsolationForest().fit(numeric_data)\n",
    "scores = forest.decision_function(numeric_data)\n",
    "print((scores < 0).sum())\n",
    "\n",
    "\n",
    "# Filter out anomolous rows\n",
    "data = df[scores >= -0.01]\n",
    "\n",
    "print(data.shape, df.shape)"
   ]
  }
 ],
 "metadata": {
  "kernelspec": {
   "display_name": "Python 3",
   "language": "python",
   "name": "python3"
  },
  "language_info": {
   "codemirror_mode": {
    "name": "ipython",
    "version": 3
   },
   "file_extension": ".py",
   "mimetype": "text/x-python",
   "name": "python",
   "nbconvert_exporter": "python",
   "pygments_lexer": "ipython3",
   "version": "3.10.15"
  }
 },
 "nbformat": 4,
 "nbformat_minor": 2
}
